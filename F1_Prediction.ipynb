{
 "cells": [
  {
   "cell_type": "code",
   "execution_count": 0,
   "metadata": {
    "application/vnd.databricks.v1+cell": {
     "cellMetadata": {
      "byteLimit": 2048000,
      "rowLimit": 10000
     },
     "inputWidgets": {},
     "nuid": "8b0bd6ae-0927-4f66-baff-3cddb956d35f",
     "showTitle": false,
     "tableResultSettingsMap": {},
     "title": ""
    }
   },
   "outputs": [],
   "source": [
    "base_path = \"s3://columbia-gr5069-main/raw/\"\n",
    "spark_results = spark.read.option(\"header\", True).csv(base_path + \"results.csv\")\n",
    "spark_drivers = spark.read.option(\"header\", True).csv(base_path + \"drivers.csv\")\n",
    "spark_races = spark.read.option(\"header\", True).csv(base_path + \"races.csv\")\n",
    "spark_status_map = spark.read.option(\"header\", True).csv(base_path + \"status.csv\")\n",
    "results = spark_results.toPandas()\n",
    "drivers = spark_drivers.toPandas()\n",
    "races = spark_races.toPandas()\n",
    "status_map = spark_status_map.toPandas()"
   ]
  },
  {
   "cell_type": "markdown",
   "metadata": {
    "application/vnd.databricks.v1+cell": {
     "cellMetadata": {},
     "inputWidgets": {},
     "nuid": "d62aefd0-518f-4158-a103-f5d6138b976c",
     "showTitle": false,
     "tableResultSettingsMap": {},
     "title": ""
    }
   },
   "source": [
    " (1) Build any model with tunable hyperparameters"
   ]
  },
  {
   "cell_type": "code",
   "execution_count": 0,
   "metadata": {
    "application/vnd.databricks.v1+cell": {
     "cellMetadata": {
      "byteLimit": 2048000,
      "rowLimit": 10000
     },
     "inputWidgets": {},
     "nuid": "da7c8c04-4371-47e9-ac2e-db25e41af580",
     "showTitle": false,
     "tableResultSettingsMap": {},
     "title": ""
    }
   },
   "outputs": [],
   "source": [
    "import pandas as pd\n",
    "import numpy as np\n",
    "from sklearn.preprocessing import LabelEncoder\n",
    "# Merge readable status into results\n",
    "results = results.merge(status_map, on=\"statusId\", how=\"left\")  # get 'status' column\n",
    "\n",
    "# Merge datasets to include driver and race year info\n",
    "df = results.merge(drivers, on=\"driverId\").merge(races[[\"raceId\", \"year\"]], on=\"raceId\")\n",
    "\n",
    "# Replace '\\N' strings with NaN values\n",
    "df.replace(\"\\\\N\", np.nan, inplace=True)\n",
    "\n",
    "# Convert necessary columns to numeric\n",
    "df['fastestLap'] = pd.to_numeric(df['fastestLap'], errors='coerce')\n",
    "df['rank'] = pd.to_numeric(df['rank'], errors='coerce')\n",
    "\n",
    "# Create binary label: finished = 1, else 0\n",
    "df['status'] = df['status'].astype(str)\n",
    "df['finished'] = df['status'].apply(lambda x: 1 if x.strip().lower() == 'finished' else 0)\n",
    "\n",
    "# Drop rows with missing values\n",
    "df.dropna(subset=['grid', 'laps', 'fastestLap', 'rank', 'year', 'nationality'], inplace=True)\n",
    "\n",
    "# Encode categorical: nationality\n",
    "le = LabelEncoder()\n",
    "df['nationality_encoded'] = le.fit_transform(df['nationality'])\n",
    "\n",
    "# Feature and label selection\n",
    "features = ['grid', 'laps', 'fastestLap', 'rank', 'year', 'nationality_encoded']\n",
    "X = df[features].astype(float)\n",
    "y = df['finished']"
   ]
  },
  {
   "cell_type": "markdown",
   "metadata": {
    "application/vnd.databricks.v1+cell": {
     "cellMetadata": {},
     "inputWidgets": {},
     "nuid": "e62c4d66-16e1-4e95-ad0c-534e0b63ae46",
     "showTitle": false,
     "tableResultSettingsMap": {},
     "title": ""
    }
   },
   "source": [
    "(2) Log hyperparameters, model, metrics, artifacts with MLflow"
   ]
  },
  {
   "cell_type": "code",
   "execution_count": 0,
   "metadata": {
    "application/vnd.databricks.v1+cell": {
     "cellMetadata": {
      "byteLimit": 2048000,
      "rowLimit": 10000
     },
     "inputWidgets": {},
     "nuid": "20d0700f-11aa-4224-b5bd-aad01c95980e",
     "showTitle": false,
     "tableResultSettingsMap": {},
     "title": ""
    }
   },
   "outputs": [
    {
     "output_type": "stream",
     "name": "stdout",
     "output_type": "stream",
     "text": [
      "Requirement already satisfied: mlflow in /local_disk0/.ephemeral_nfs/envs/pythonEnv-11639cfe-327d-428e-8f38-5f622d7df503/lib/python3.11/site-packages (2.21.3)\nRequirement already satisfied: scikit-learn in /databricks/python3/lib/python3.11/site-packages (1.3.0)\nRequirement already satisfied: matplotlib in /databricks/python3/lib/python3.11/site-packages (3.7.2)\nRequirement already satisfied: seaborn in /databricks/python3/lib/python3.11/site-packages (0.12.2)\nRequirement already satisfied: mlflow-skinny==2.21.3 in /local_disk0/.ephemeral_nfs/envs/pythonEnv-11639cfe-327d-428e-8f38-5f622d7df503/lib/python3.11/site-packages (from mlflow) (2.21.3)\nRequirement already satisfied: Flask<4 in /local_disk0/.ephemeral_nfs/envs/pythonEnv-11639cfe-327d-428e-8f38-5f622d7df503/lib/python3.11/site-packages (from mlflow) (3.1.0)\nRequirement already satisfied: Jinja2<4,>=2.11 in /local_disk0/.ephemeral_nfs/envs/pythonEnv-11639cfe-327d-428e-8f38-5f622d7df503/lib/python3.11/site-packages (from mlflow) (3.1.6)\nRequirement already satisfied: alembic!=1.10.0,<2 in /local_disk0/.ephemeral_nfs/envs/pythonEnv-11639cfe-327d-428e-8f38-5f622d7df503/lib/python3.11/site-packages (from mlflow) (1.15.2)\nRequirement already satisfied: docker<8,>=4.0.0 in /local_disk0/.ephemeral_nfs/envs/pythonEnv-11639cfe-327d-428e-8f38-5f622d7df503/lib/python3.11/site-packages (from mlflow) (7.1.0)\nRequirement already satisfied: graphene<4 in /local_disk0/.ephemeral_nfs/envs/pythonEnv-11639cfe-327d-428e-8f38-5f622d7df503/lib/python3.11/site-packages (from mlflow) (3.4.3)\nRequirement already satisfied: gunicorn<24 in /local_disk0/.ephemeral_nfs/envs/pythonEnv-11639cfe-327d-428e-8f38-5f622d7df503/lib/python3.11/site-packages (from mlflow) (23.0.0)\nRequirement already satisfied: markdown<4,>=3.3 in /local_disk0/.ephemeral_nfs/envs/pythonEnv-11639cfe-327d-428e-8f38-5f622d7df503/lib/python3.11/site-packages (from mlflow) (3.7)\nRequirement already satisfied: numpy<3 in /databricks/python3/lib/python3.11/site-packages (from mlflow) (1.23.5)\nRequirement already satisfied: pandas<3 in /databricks/python3/lib/python3.11/site-packages (from mlflow) (1.5.3)\nRequirement already satisfied: pyarrow<20,>=4.0.0 in /databricks/python3/lib/python3.11/site-packages (from mlflow) (14.0.1)\nRequirement already satisfied: scipy<2 in /databricks/python3/lib/python3.11/site-packages (from mlflow) (1.11.1)\nRequirement already satisfied: sqlalchemy<3,>=1.4.0 in /local_disk0/.ephemeral_nfs/envs/pythonEnv-11639cfe-327d-428e-8f38-5f622d7df503/lib/python3.11/site-packages (from mlflow) (2.0.40)\nRequirement already satisfied: cachetools<6,>=5.0.0 in /databricks/python3/lib/python3.11/site-packages (from mlflow-skinny==2.21.3->mlflow) (5.3.3)\nRequirement already satisfied: click<9,>=7.0 in /local_disk0/.ephemeral_nfs/envs/pythonEnv-11639cfe-327d-428e-8f38-5f622d7df503/lib/python3.11/site-packages (from mlflow-skinny==2.21.3->mlflow) (8.1.8)\nRequirement already satisfied: cloudpickle<4 in /databricks/python3/lib/python3.11/site-packages (from mlflow-skinny==2.21.3->mlflow) (2.2.1)\nRequirement already satisfied: databricks-sdk<1,>=0.20.0 in /databricks/python3/lib/python3.11/site-packages (from mlflow-skinny==2.21.3->mlflow) (0.20.0)\nRequirement already satisfied: fastapi<1 in /local_disk0/.ephemeral_nfs/envs/pythonEnv-11639cfe-327d-428e-8f38-5f622d7df503/lib/python3.11/site-packages (from mlflow-skinny==2.21.3->mlflow) (0.115.12)\nRequirement already satisfied: gitpython<4,>=3.1.9 in /databricks/python3/lib/python3.11/site-packages (from mlflow-skinny==2.21.3->mlflow) (3.1.43)\nRequirement already satisfied: importlib_metadata!=4.7.0,<9,>=3.7.0 in /databricks/python3/lib/python3.11/site-packages (from mlflow-skinny==2.21.3->mlflow) (6.0.0)\nRequirement already satisfied: opentelemetry-api<3,>=1.9.0 in /local_disk0/.ephemeral_nfs/envs/pythonEnv-11639cfe-327d-428e-8f38-5f622d7df503/lib/python3.11/site-packages (from mlflow-skinny==2.21.3->mlflow) (1.31.1)\nRequirement already satisfied: opentelemetry-sdk<3,>=1.9.0 in /local_disk0/.ephemeral_nfs/envs/pythonEnv-11639cfe-327d-428e-8f38-5f622d7df503/lib/python3.11/site-packages (from mlflow-skinny==2.21.3->mlflow) (1.31.1)\nRequirement already satisfied: packaging<25 in /databricks/python3/lib/python3.11/site-packages (from mlflow-skinny==2.21.3->mlflow) (23.2)\nRequirement already satisfied: protobuf<6,>=3.12.0 in /databricks/python3/lib/python3.11/site-packages (from mlflow-skinny==2.21.3->mlflow) (4.24.1)\nRequirement already satisfied: pydantic<3,>=1.10.8 in /local_disk0/.ephemeral_nfs/envs/pythonEnv-11639cfe-327d-428e-8f38-5f622d7df503/lib/python3.11/site-packages (from mlflow-skinny==2.21.3->mlflow) (2.11.3)\nRequirement already satisfied: pyyaml<7,>=5.1 in /databricks/python3/lib/python3.11/site-packages (from mlflow-skinny==2.21.3->mlflow) (6.0)\nRequirement already satisfied: requests<3,>=2.17.3 in /databricks/python3/lib/python3.11/site-packages (from mlflow-skinny==2.21.3->mlflow) (2.31.0)\nRequirement already satisfied: sqlparse<1,>=0.4.0 in /databricks/python3/lib/python3.11/site-packages (from mlflow-skinny==2.21.3->mlflow) (0.5.0)\nRequirement already satisfied: typing-extensions<5,>=4.0.0 in /local_disk0/.ephemeral_nfs/envs/pythonEnv-11639cfe-327d-428e-8f38-5f622d7df503/lib/python3.11/site-packages (from mlflow-skinny==2.21.3->mlflow) (4.13.1)\nRequirement already satisfied: uvicorn<1 in /local_disk0/.ephemeral_nfs/envs/pythonEnv-11639cfe-327d-428e-8f38-5f622d7df503/lib/python3.11/site-packages (from mlflow-skinny==2.21.3->mlflow) (0.34.0)\nRequirement already satisfied: joblib>=1.1.1 in /databricks/python3/lib/python3.11/site-packages (from scikit-learn) (1.2.0)\nRequirement already satisfied: threadpoolctl>=2.0.0 in /databricks/python3/lib/python3.11/site-packages (from scikit-learn) (2.2.0)\nRequirement already satisfied: contourpy>=1.0.1 in /databricks/python3/lib/python3.11/site-packages (from matplotlib) (1.0.5)\nRequirement already satisfied: cycler>=0.10 in /databricks/python3/lib/python3.11/site-packages (from matplotlib) (0.11.0)\nRequirement already satisfied: fonttools>=4.22.0 in /databricks/python3/lib/python3.11/site-packages (from matplotlib) (4.25.0)\nRequirement already satisfied: kiwisolver>=1.0.1 in /databricks/python3/lib/python3.11/site-packages (from matplotlib) (1.4.4)\nRequirement already satisfied: pillow>=6.2.0 in /databricks/python3/lib/python3.11/site-packages (from matplotlib) (9.4.0)\nRequirement already satisfied: pyparsing<3.1,>=2.3.1 in /databricks/python3/lib/python3.11/site-packages (from matplotlib) (3.0.9)\nRequirement already satisfied: python-dateutil>=2.7 in /databricks/python3/lib/python3.11/site-packages (from matplotlib) (2.8.2)\nRequirement already satisfied: Mako in /local_disk0/.ephemeral_nfs/envs/pythonEnv-11639cfe-327d-428e-8f38-5f622d7df503/lib/python3.11/site-packages (from alembic!=1.10.0,<2->mlflow) (1.3.9)\nRequirement already satisfied: urllib3>=1.26.0 in /databricks/python3/lib/python3.11/site-packages (from docker<8,>=4.0.0->mlflow) (1.26.16)\nRequirement already satisfied: Werkzeug>=3.1 in /local_disk0/.ephemeral_nfs/envs/pythonEnv-11639cfe-327d-428e-8f38-5f622d7df503/lib/python3.11/site-packages (from Flask<4->mlflow) (3.1.3)\nRequirement already satisfied: itsdangerous>=2.2 in /local_disk0/.ephemeral_nfs/envs/pythonEnv-11639cfe-327d-428e-8f38-5f622d7df503/lib/python3.11/site-packages (from Flask<4->mlflow) (2.2.0)\nRequirement already satisfied: blinker>=1.9 in /local_disk0/.ephemeral_nfs/envs/pythonEnv-11639cfe-327d-428e-8f38-5f622d7df503/lib/python3.11/site-packages (from Flask<4->mlflow) (1.9.0)\nRequirement already satisfied: graphql-core<3.3,>=3.1 in /local_disk0/.ephemeral_nfs/envs/pythonEnv-11639cfe-327d-428e-8f38-5f622d7df503/lib/python3.11/site-packages (from graphene<4->mlflow) (3.2.6)\nRequirement already satisfied: graphql-relay<3.3,>=3.1 in /local_disk0/.ephemeral_nfs/envs/pythonEnv-11639cfe-327d-428e-8f38-5f622d7df503/lib/python3.11/site-packages (from graphene<4->mlflow) (3.2.0)\nRequirement already satisfied: MarkupSafe>=2.0 in /local_disk0/.ephemeral_nfs/envs/pythonEnv-11639cfe-327d-428e-8f38-5f622d7df503/lib/python3.11/site-packages (from Jinja2<4,>=2.11->mlflow) (3.0.2)\nRequirement already satisfied: pytz>=2020.1 in /databricks/python3/lib/python3.11/site-packages (from pandas<3->mlflow) (2022.7)\nRequirement already satisfied: six>=1.5 in /usr/lib/python3/dist-packages (from python-dateutil>=2.7->matplotlib) (1.16.0)\nRequirement already satisfied: greenlet>=1 in /local_disk0/.ephemeral_nfs/envs/pythonEnv-11639cfe-327d-428e-8f38-5f622d7df503/lib/python3.11/site-packages (from sqlalchemy<3,>=1.4.0->mlflow) (3.1.1)\nRequirement already satisfied: google-auth~=2.0 in /databricks/python3/lib/python3.11/site-packages (from databricks-sdk<1,>=0.20.0->mlflow-skinny==2.21.3->mlflow) (2.31.0)\nRequirement already satisfied: starlette<0.47.0,>=0.40.0 in /local_disk0/.ephemeral_nfs/envs/pythonEnv-11639cfe-327d-428e-8f38-5f622d7df503/lib/python3.11/site-packages (from fastapi<1->mlflow-skinny==2.21.3->mlflow) (0.46.1)\nRequirement already satisfied: gitdb<5,>=4.0.1 in /databricks/python3/lib/python3.11/site-packages (from gitpython<4,>=3.1.9->mlflow-skinny==2.21.3->mlflow) (4.0.11)\nRequirement already satisfied: zipp>=0.5 in /databricks/python3/lib/python3.11/site-packages (from importlib_metadata!=4.7.0,<9,>=3.7.0->mlflow-skinny==2.21.3->mlflow) (3.11.0)\nRequirement already satisfied: deprecated>=1.2.6 in /local_disk0/.ephemeral_nfs/envs/pythonEnv-11639cfe-327d-428e-8f38-5f622d7df503/lib/python3.11/site-packages (from opentelemetry-api<3,>=1.9.0->mlflow-skinny==2.21.3->mlflow) (1.2.18)\nRequirement already satisfied: opentelemetry-semantic-conventions==0.52b1 in /local_disk0/.ephemeral_nfs/envs/pythonEnv-11639cfe-327d-428e-8f38-5f622d7df503/lib/python3.11/site-packages (from opentelemetry-sdk<3,>=1.9.0->mlflow-skinny==2.21.3->mlflow) (0.52b1)\nRequirement already satisfied: annotated-types>=0.6.0 in /local_disk0/.ephemeral_nfs/envs/pythonEnv-11639cfe-327d-428e-8f38-5f622d7df503/lib/python3.11/site-packages (from pydantic<3,>=1.10.8->mlflow-skinny==2.21.3->mlflow) (0.7.0)\nRequirement already satisfied: pydantic-core==2.33.1 in /local_disk0/.ephemeral_nfs/envs/pythonEnv-11639cfe-327d-428e-8f38-5f622d7df503/lib/python3.11/site-packages (from pydantic<3,>=1.10.8->mlflow-skinny==2.21.3->mlflow) (2.33.1)\nRequirement already satisfied: typing-inspection>=0.4.0 in /local_disk0/.ephemeral_nfs/envs/pythonEnv-11639cfe-327d-428e-8f38-5f622d7df503/lib/python3.11/site-packages (from pydantic<3,>=1.10.8->mlflow-skinny==2.21.3->mlflow) (0.4.0)\nRequirement already satisfied: charset-normalizer<4,>=2 in /databricks/python3/lib/python3.11/site-packages (from requests<3,>=2.17.3->mlflow-skinny==2.21.3->mlflow) (2.0.4)\nRequirement already satisfied: idna<4,>=2.5 in /databricks/python3/lib/python3.11/site-packages (from requests<3,>=2.17.3->mlflow-skinny==2.21.3->mlflow) (3.4)\nRequirement already satisfied: certifi>=2017.4.17 in /databricks/python3/lib/python3.11/site-packages (from requests<3,>=2.17.3->mlflow-skinny==2.21.3->mlflow) (2023.7.22)\nRequirement already satisfied: h11>=0.8 in /local_disk0/.ephemeral_nfs/envs/pythonEnv-11639cfe-327d-428e-8f38-5f622d7df503/lib/python3.11/site-packages (from uvicorn<1->mlflow-skinny==2.21.3->mlflow) (0.14.0)\nRequirement already satisfied: wrapt<2,>=1.10 in /local_disk0/.ephemeral_nfs/envs/pythonEnv-11639cfe-327d-428e-8f38-5f622d7df503/lib/python3.11/site-packages (from deprecated>=1.2.6->opentelemetry-api<3,>=1.9.0->mlflow-skinny==2.21.3->mlflow) (1.17.2)\nRequirement already satisfied: smmap<6,>=3.0.1 in /databricks/python3/lib/python3.11/site-packages (from gitdb<5,>=4.0.1->gitpython<4,>=3.1.9->mlflow-skinny==2.21.3->mlflow) (5.0.1)\nRequirement already satisfied: pyasn1-modules>=0.2.1 in /databricks/python3/lib/python3.11/site-packages (from google-auth~=2.0->databricks-sdk<1,>=0.20.0->mlflow-skinny==2.21.3->mlflow) (0.2.8)\nRequirement already satisfied: rsa<5,>=3.1.4 in /databricks/python3/lib/python3.11/site-packages (from google-auth~=2.0->databricks-sdk<1,>=0.20.0->mlflow-skinny==2.21.3->mlflow) (4.9)\nRequirement already satisfied: anyio<5,>=3.6.2 in /local_disk0/.ephemeral_nfs/envs/pythonEnv-11639cfe-327d-428e-8f38-5f622d7df503/lib/python3.11/site-packages (from starlette<0.47.0,>=0.40.0->fastapi<1->mlflow-skinny==2.21.3->mlflow) (4.9.0)\nRequirement already satisfied: sniffio>=1.1 in /local_disk0/.ephemeral_nfs/envs/pythonEnv-11639cfe-327d-428e-8f38-5f622d7df503/lib/python3.11/site-packages (from anyio<5,>=3.6.2->starlette<0.47.0,>=0.40.0->fastapi<1->mlflow-skinny==2.21.3->mlflow) (1.3.1)\nRequirement already satisfied: pyasn1<0.5.0,>=0.4.6 in /databricks/python3/lib/python3.11/site-packages (from pyasn1-modules>=0.2.1->google-auth~=2.0->databricks-sdk<1,>=0.20.0->mlflow-skinny==2.21.3->mlflow) (0.4.8)\n\u001B[43mNote: you may need to restart the kernel using %restart_python or dbutils.library.restartPython() to use updated packages.\u001B[0m\n"
     ]
    }
   ],
   "source": [
    "!pip install mlflow scikit-learn matplotlib seaborn\n",
    "\n",
    "import mlflow\n",
    "import mlflow.sklearn\n",
    "from sklearn.model_selection import train_test_split\n",
    "from sklearn.ensemble import RandomForestClassifier\n",
    "from sklearn.metrics import accuracy_score, confusion_matrix, precision_score, recall_score, f1_score\n",
    "import matplotlib.pyplot as plt\n",
    "import seaborn as sns\n",
    "import os\n",
    "\n",
    "mlflow.set_experiment(\"/Users/hh3110@columbia.edu/F1 Finished Prediction\")\n",
    "os.makedirs(\"artifacts\", exist_ok=True)"
   ]
  },
  {
   "cell_type": "markdown",
   "metadata": {
    "application/vnd.databricks.v1+cell": {
     "cellMetadata": {},
     "inputWidgets": {},
     "nuid": "6d910979-9de7-4cb9-9b92-079afc857cec",
     "showTitle": false,
     "tableResultSettingsMap": {},
     "title": ""
    }
   },
   "source": [
    " (3) Track 10+ experiments"
   ]
  },
  {
   "cell_type": "code",
   "execution_count": 0,
   "metadata": {
    "application/vnd.databricks.v1+cell": {
     "cellMetadata": {
      "byteLimit": 2048000,
      "rowLimit": 10000
     },
     "inputWidgets": {},
     "nuid": "4631140f-11cc-458a-a1ca-f943bc20a89d",
     "showTitle": false,
     "tableResultSettingsMap": {},
     "title": ""
    }
   },
   "outputs": [
    {
     "output_type": "stream",
     "name": "stderr",
     "output_type": "stream",
     "text": [
      "2025/04/09 10:51:29 WARNING mlflow.utils.requirements_utils: Detected one or more mismatches between the model's dependencies and the current Python environment:\n - mlflow (current: 2.21.3, required: mlflow==2.11.4)\nTo fix the mismatches, call `mlflow.pyfunc.get_model_dependencies(model_uri)` to fetch the model's environment and install dependencies using the resulting environment file.\n2025/04/09 10:51:29 WARNING mlflow.models.model: Model logged without a signature. Signatures will be required for upcoming model registry features as they validate model inputs and denote the expected schema of model outputs. Please visit https://www.mlflow.org/docs/2.11.4/models.html#set-signature-on-logged-model for instructions on setting a model signature on your logged model.\n2025/04/09 10:51:37 WARNING mlflow.utils.requirements_utils: Detected one or more mismatches between the model's dependencies and the current Python environment:\n - mlflow (current: 2.21.3, required: mlflow==2.11.4)\nTo fix the mismatches, call `mlflow.pyfunc.get_model_dependencies(model_uri)` to fetch the model's environment and install dependencies using the resulting environment file.\n2025/04/09 10:51:37 WARNING mlflow.models.model: Model logged without a signature. Signatures will be required for upcoming model registry features as they validate model inputs and denote the expected schema of model outputs. Please visit https://www.mlflow.org/docs/2.11.4/models.html#set-signature-on-logged-model for instructions on setting a model signature on your logged model.\n2025/04/09 10:51:46 WARNING mlflow.utils.requirements_utils: Detected one or more mismatches between the model's dependencies and the current Python environment:\n - mlflow (current: 2.21.3, required: mlflow==2.11.4)\nTo fix the mismatches, call `mlflow.pyfunc.get_model_dependencies(model_uri)` to fetch the model's environment and install dependencies using the resulting environment file.\n2025/04/09 10:51:46 WARNING mlflow.models.model: Model logged without a signature. Signatures will be required for upcoming model registry features as they validate model inputs and denote the expected schema of model outputs. Please visit https://www.mlflow.org/docs/2.11.4/models.html#set-signature-on-logged-model for instructions on setting a model signature on your logged model.\n2025/04/09 10:51:53 WARNING mlflow.utils.requirements_utils: Detected one or more mismatches between the model's dependencies and the current Python environment:\n - mlflow (current: 2.21.3, required: mlflow==2.11.4)\nTo fix the mismatches, call `mlflow.pyfunc.get_model_dependencies(model_uri)` to fetch the model's environment and install dependencies using the resulting environment file.\n2025/04/09 10:51:53 WARNING mlflow.models.model: Model logged without a signature. Signatures will be required for upcoming model registry features as they validate model inputs and denote the expected schema of model outputs. Please visit https://www.mlflow.org/docs/2.11.4/models.html#set-signature-on-logged-model for instructions on setting a model signature on your logged model.\n2025/04/09 10:52:02 WARNING mlflow.utils.requirements_utils: Detected one or more mismatches between the model's dependencies and the current Python environment:\n - mlflow (current: 2.21.3, required: mlflow==2.11.4)\nTo fix the mismatches, call `mlflow.pyfunc.get_model_dependencies(model_uri)` to fetch the model's environment and install dependencies using the resulting environment file.\n2025/04/09 10:52:02 WARNING mlflow.models.model: Model logged without a signature. Signatures will be required for upcoming model registry features as they validate model inputs and denote the expected schema of model outputs. Please visit https://www.mlflow.org/docs/2.11.4/models.html#set-signature-on-logged-model for instructions on setting a model signature on your logged model.\n2025/04/09 10:52:10 WARNING mlflow.utils.requirements_utils: Detected one or more mismatches between the model's dependencies and the current Python environment:\n - mlflow (current: 2.21.3, required: mlflow==2.11.4)\nTo fix the mismatches, call `mlflow.pyfunc.get_model_dependencies(model_uri)` to fetch the model's environment and install dependencies using the resulting environment file.\n2025/04/09 10:52:10 WARNING mlflow.models.model: Model logged without a signature. Signatures will be required for upcoming model registry features as they validate model inputs and denote the expected schema of model outputs. Please visit https://www.mlflow.org/docs/2.11.4/models.html#set-signature-on-logged-model for instructions on setting a model signature on your logged model.\n2025/04/09 10:52:20 WARNING mlflow.utils.requirements_utils: Detected one or more mismatches between the model's dependencies and the current Python environment:\n - mlflow (current: 2.21.3, required: mlflow==2.11.4)\nTo fix the mismatches, call `mlflow.pyfunc.get_model_dependencies(model_uri)` to fetch the model's environment and install dependencies using the resulting environment file.\n2025/04/09 10:52:20 WARNING mlflow.models.model: Model logged without a signature. Signatures will be required for upcoming model registry features as they validate model inputs and denote the expected schema of model outputs. Please visit https://www.mlflow.org/docs/2.11.4/models.html#set-signature-on-logged-model for instructions on setting a model signature on your logged model.\nWARNING:urllib3.connectionpool:Connection pool is full, discarding connection: databricks-columbia-nyc.s3.us-east-1.amazonaws.com. Connection pool size: 10\nWARNING:urllib3.connectionpool:Connection pool is full, discarding connection: databricks-columbia-nyc.s3.us-east-1.amazonaws.com. Connection pool size: 10\n2025/04/09 10:52:29 WARNING mlflow.utils.requirements_utils: Detected one or more mismatches between the model's dependencies and the current Python environment:\n - mlflow (current: 2.21.3, required: mlflow==2.11.4)\nTo fix the mismatches, call `mlflow.pyfunc.get_model_dependencies(model_uri)` to fetch the model's environment and install dependencies using the resulting environment file.\n2025/04/09 10:52:29 WARNING mlflow.models.model: Model logged without a signature. Signatures will be required for upcoming model registry features as they validate model inputs and denote the expected schema of model outputs. Please visit https://www.mlflow.org/docs/2.11.4/models.html#set-signature-on-logged-model for instructions on setting a model signature on your logged model.\n2025/04/09 10:52:38 WARNING mlflow.utils.requirements_utils: Detected one or more mismatches between the model's dependencies and the current Python environment:\n - mlflow (current: 2.21.3, required: mlflow==2.11.4)\nTo fix the mismatches, call `mlflow.pyfunc.get_model_dependencies(model_uri)` to fetch the model's environment and install dependencies using the resulting environment file.\n2025/04/09 10:52:38 WARNING mlflow.models.model: Model logged without a signature. Signatures will be required for upcoming model registry features as they validate model inputs and denote the expected schema of model outputs. Please visit https://www.mlflow.org/docs/2.11.4/models.html#set-signature-on-logged-model for instructions on setting a model signature on your logged model.\n2025/04/09 10:52:48 WARNING mlflow.utils.requirements_utils: Detected one or more mismatches between the model's dependencies and the current Python environment:\n - mlflow (current: 2.21.3, required: mlflow==2.11.4)\nTo fix the mismatches, call `mlflow.pyfunc.get_model_dependencies(model_uri)` to fetch the model's environment and install dependencies using the resulting environment file.\n2025/04/09 10:52:48 WARNING mlflow.models.model: Model logged without a signature. Signatures will be required for upcoming model registry features as they validate model inputs and denote the expected schema of model outputs. Please visit https://www.mlflow.org/docs/2.11.4/models.html#set-signature-on-logged-model for instructions on setting a model signature on your logged model.\n"
     ]
    }
   ],
   "source": [
    "# Split data\n",
    "X_train, X_test, y_train, y_test = train_test_split(X, y, test_size=0.2, random_state=42)\n",
    "\n",
    "# Set MLflow experiment\n",
    "mlflow.set_experiment(\"/Users/hh3110@columbia.edu/F1 Finished Prediction\")  \n",
    "os.makedirs(\"artifacts\", exist_ok=True)\n",
    "\n",
    "# Try different hyperparameters\n",
    "for n in [50, 100, 150, 200, 250, 300, 350, 400, 450, 500]:\n",
    "    with mlflow.start_run():\n",
    "        model = RandomForestClassifier(n_estimators=n, random_state=42)\n",
    "        model.fit(X_train, y_train)\n",
    "        y_pred = model.predict(X_test)\n",
    "\n",
    "        # Calculate metrics\n",
    "        acc = accuracy_score(y_test, y_pred)\n",
    "        prec = precision_score(y_test, y_pred, zero_division=0)\n",
    "        rec = recall_score(y_test, y_pred, zero_division=0)\n",
    "        f1 = f1_score(y_test, y_pred, zero_division=0)\n",
    "        cm = confusion_matrix(y_test, y_pred)\n",
    "\n",
    "        # Log hyperparameters and metrics\n",
    "        mlflow.log_param(\"n_estimators\", n)\n",
    "        mlflow.log_metric(\"accuracy\", acc)\n",
    "        mlflow.log_metric(\"precision\", prec)\n",
    "        mlflow.log_metric(\"recall\", rec)\n",
    "        mlflow.log_metric(\"f1\", f1)\n",
    "\n",
    "        # Log model\n",
    "        mlflow.sklearn.log_model(model, \"model\")\n",
    "\n",
    "        # Plot confusion matrix\n",
    "        plt.figure(figsize=(5, 4))\n",
    "        sns.heatmap(cm, annot=True, fmt=\"d\", cmap=\"Blues\")\n",
    "        plt.title(f\"Confusion Matrix (n={n})\")\n",
    "        plt.xlabel(\"Predicted\")\n",
    "        plt.ylabel(\"Actual\")\n",
    "        plot_path = f\"artifacts/conf_matrix_{n}.png\"\n",
    "        plt.savefig(plot_path)\n",
    "        plt.close()\n",
    "        mlflow.log_artifact(plot_path)\n",
    "\n",
    "        # Save predictions CSV\n",
    "        pred_df = X_test.copy()\n",
    "        pred_df['actual'] = y_test.values\n",
    "        pred_df['predicted'] = y_pred\n",
    "        pred_csv_path = f\"artifacts/predictions_{n}.csv\"\n",
    "        pred_df.to_csv(pred_csv_path, index=False)\n",
    "        mlflow.log_artifact(pred_csv_path)"
   ]
  },
  {
   "cell_type": "markdown",
   "metadata": {
    "application/vnd.databricks.v1+cell": {
     "cellMetadata": {},
     "inputWidgets": {},
     "nuid": "123ed274-772e-4bcc-9a13-0df4113b9e08",
     "showTitle": false,
     "tableResultSettingsMap": {},
     "title": ""
    }
   },
   "source": [
    "(4) Best Model Run: Explanation\n",
    "\n",
    "After running 10 experiments with different values of `n_estimators`, I selected the best model based on the **highest F1 score**, which balances both precision and recall.\n",
    "\n",
    "**Best Run Summary:**\n",
    "- `n_estimators`: **250**\n",
    "- `Accuracy`: **0.8536**\n",
    "- `Precision`: **0.8679**\n",
    "- `Recall`: **0.8494**\n",
    "- `F1 Score`: **0.8586**\n",
    "\n",
    "This model achieved the best balance between catching both drivers who finish and those who do not. Since our data may have some class imbalance, the F1 score is a more appropriate metric than accuracy alone.\n",
    "\n",
    "In addition, this run also generated and logged:\n",
    "- A confusion matrix plot\n",
    "- A CSV file of prediction results\n",
    "\n",
    "All metrics, parameters, model, and artifacts were logged to MLflow and can be used for further evaluation or deployment.\n"
   ]
  },
  {
   "cell_type": "markdown",
   "metadata": {
    "application/vnd.databricks.v1+cell": {
     "cellMetadata": {},
     "inputWidgets": {},
     "nuid": "444039dd-9105-455c-a51b-78b298aa1efa",
     "showTitle": false,
     "tableResultSettingsMap": {},
     "title": ""
    }
   },
   "source": [
    "(5) MLflow Screenshot Evidence\n",
    "\n",
    "As required, here are the screenshots of:\n",
    "\n",
    "The MLflow Experiment Homepage\n",
    "The 10 Individual Model Run Detail Pages\n",
    "\n",
    "MLflow Experiment Homepage\n",
    "This page shows that at least 10 runs were logged successfully using MLflow, including run names, parameters, durations, and accuracy metrics.\n",
    "\n",
    "![Homepage](screenshots/homepage.jpg)\n",
    "\n",
    "---\n",
    "\n",
    "MLflow Run Detail Pages\n",
    "The following images are detailed views of each individual run, including logged hyperparameters, model accuracy, precision, recall, F1 score, and artifacts.\n",
    "\n",
    "![Run Detail 1](screenshots/1.jpg)\n",
    "![Run Detail 2](screenshots/2.jpg)\n",
    "![Run Detail 3](screenshots/3.jpg)\n",
    "![Run Detail 4](screenshots/4.jpg)\n",
    "![Run Detail 5](screenshots/5.jpg)\n",
    "![Run Detail 6](screenshots/6.jpg)\n",
    "![Run Detail 7](screenshots/7.jpg)\n",
    "![Run Detail 8](screenshots/8.jpg)\n",
    "![Run Detail 9](screenshots/9.jpg)\n",
    "![Run Detail 10](screenshots/10.jpg)\n"
   ]
  }
 ],
 "metadata": {
  "application/vnd.databricks.v1+notebook": {
   "computePreferences": null,
   "dashboards": [],
   "environmentMetadata": {
    "base_environment": "",
    "environment_version": "2"
   },
   "inputWidgetPreferences": null,
   "language": "python",
   "notebookMetadata": {
    "pythonIndentUnit": 4
   },
   "notebookName": "F1 Prediction",
   "widgets": {}
  },
  "language_info": {
   "name": "python"
  }
 },
 "nbformat": 4,
 "nbformat_minor": 0
}